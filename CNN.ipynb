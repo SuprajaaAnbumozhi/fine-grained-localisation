{
 "cells": [
  {
   "cell_type": "code",
   "execution_count": 1,
   "metadata": {
    "_cell_guid": "b1076dfc-b9ad-4769-8c92-a6c4dae69d19",
    "_uuid": "8f2839f25d086af736a60e9eeb907d3b93b6e0e5",
    "execution": {
     "iopub.execute_input": "2021-10-18T09:47:22.165886Z",
     "iopub.status.busy": "2021-10-18T09:47:22.165392Z",
     "iopub.status.idle": "2021-10-18T09:47:23.684197Z",
     "shell.execute_reply": "2021-10-18T09:47:23.683247Z",
     "shell.execute_reply.started": "2021-10-18T09:47:22.165787Z"
    },
    "id": "VSo3kCLQZmX5",
    "outputId": "228488e6-9bc5-4fbb-b8c9-f45654dc55b8"
   },
   "outputs": [],
   "source": [
    "import tensorflow as tf\n",
    "\n",
    "import os\n",
    "import shutil\n",
    "import glob\n",
    "\n",
    "import zipfile\n",
    "import pandas as pd\n",
    "from tqdm import tqdm"
   ]
  },
  {
   "cell_type": "code",
   "execution_count": 2,
   "metadata": {
    "execution": {
     "iopub.execute_input": "2021-10-18T09:47:23.685935Z",
     "iopub.status.busy": "2021-10-18T09:47:23.685688Z",
     "iopub.status.idle": "2021-10-18T09:47:23.690289Z",
     "shell.execute_reply": "2021-10-18T09:47:23.689482Z",
     "shell.execute_reply.started": "2021-10-18T09:47:23.685904Z"
    },
    "id": "BNX-GUhEZmX7"
   },
   "outputs": [],
   "source": [
    "# Directory paths\n",
    "ORG_TRAIN_DIR = \"COMP90086_2021_Project_train\"\n",
    "ORG_TEST_DIR = \"COMP90086_2021_Project_test\"\n",
    "train_img_dir = ORG_TRAIN_DIR + '/train/'\n",
    "test_img_dir = ORG_TEST_DIR + '/test/'\n",
    "TRAIN_DIR = './DATASET'"
   ]
  },
  {
   "cell_type": "code",
   "execution_count": 3,
   "metadata": {},
   "outputs": [],
   "source": [
    "def extract_zip_files(dir):\n",
    "    \"\"\"\n",
    "    Extracting all the files from the given folder path\n",
    "    \"\"\"\n",
    "    with zipfile.ZipFile(dir + '.zip', \"r\") as zip_ref:\n",
    "        zip_ref.extractall(dir)"
   ]
  },
  {
   "cell_type": "code",
   "execution_count": 4,
   "metadata": {},
   "outputs": [],
   "source": [
    "# Unzipping train and test folders\n",
    "extract_zip_files(ORG_TRAIN_DIR)\n",
    "extract_zip_files(ORG_TEST_DIR)"
   ]
  },
  {
   "cell_type": "code",
   "execution_count": 5,
   "metadata": {
    "execution": {
     "iopub.execute_input": "2021-10-18T09:47:23.705248Z",
     "iopub.status.busy": "2021-10-18T09:47:23.704877Z",
     "iopub.status.idle": "2021-10-18T09:47:23.710700Z",
     "shell.execute_reply": "2021-10-18T09:47:23.709916Z",
     "shell.execute_reply.started": "2021-10-18T09:47:23.705166Z"
    },
    "id": "q44L7zJEZmX8"
   },
   "outputs": [],
   "source": [
    "labels = {}\n",
    "label_to_coordinate = {}"
   ]
  },
  {
   "cell_type": "code",
   "execution_count": 6,
   "metadata": {
    "execution": {
     "iopub.execute_input": "2021-10-18T09:47:23.712451Z",
     "iopub.status.busy": "2021-10-18T09:47:23.711944Z",
     "iopub.status.idle": "2021-10-18T09:47:23.720854Z",
     "shell.execute_reply": "2021-10-18T09:47:23.720097Z",
     "shell.execute_reply.started": "2021-10-18T09:47:23.712421Z"
    },
    "id": "SnQwfAzmZmX8"
   },
   "outputs": [],
   "source": [
    "def append_ext(filename):\n",
    "    \"\"\"\n",
    "    Appending image name with .jpg\n",
    "    \"\"\"\n",
    "    return filename + \".jpg\"\n",
    "\n",
    "def create_label(x, y):\n",
    "    \"\"\"\n",
    "    Label Encoding the coordinates\n",
    "    \"\"\"\n",
    "    if (x, y) not in labels:\n",
    "        if 0 == len(labels.keys()):\n",
    "            labels[(x, y)] = 0\n",
    "            label_to_coordinate[0]=(x, y)\n",
    "        else:\n",
    "            label = labels[list(labels.keys())[-1]] + 1\n",
    "            labels[(x, y)] = label\n",
    "            label_to_coordinate[label]=(x, y)\n",
    "            \n",
    "    return labels[(x, y)]"
   ]
  },
  {
   "cell_type": "code",
   "execution_count": 7,
   "metadata": {
    "execution": {
     "iopub.execute_input": "2021-10-18T09:47:23.722561Z",
     "iopub.status.busy": "2021-10-18T09:47:23.722266Z",
     "iopub.status.idle": "2021-10-18T09:47:23.949839Z",
     "shell.execute_reply": "2021-10-18T09:47:23.948944Z",
     "shell.execute_reply.started": "2021-10-18T09:47:23.722534Z"
    },
    "id": "teDvHXOVZmX9",
    "outputId": "f0bb6d88-07e9-42ff-8087-0b5be25f1f45"
   },
   "outputs": [
    {
     "data": {
      "text/html": [
       "<div>\n",
       "<style scoped>\n",
       "    .dataframe tbody tr th:only-of-type {\n",
       "        vertical-align: middle;\n",
       "    }\n",
       "\n",
       "    .dataframe tbody tr th {\n",
       "        vertical-align: top;\n",
       "    }\n",
       "\n",
       "    .dataframe thead th {\n",
       "        text-align: right;\n",
       "    }\n",
       "</style>\n",
       "<table border=\"1\" class=\"dataframe\">\n",
       "  <thead>\n",
       "    <tr style=\"text-align: right;\">\n",
       "      <th></th>\n",
       "      <th>id</th>\n",
       "      <th>x</th>\n",
       "      <th>y</th>\n",
       "      <th>label</th>\n",
       "    </tr>\n",
       "  </thead>\n",
       "  <tbody>\n",
       "    <tr>\n",
       "      <th>0</th>\n",
       "      <td>IMG2744_1.jpg</td>\n",
       "      <td>-9.380678</td>\n",
       "      <td>3.58272</td>\n",
       "      <td>0</td>\n",
       "    </tr>\n",
       "    <tr>\n",
       "      <th>1</th>\n",
       "      <td>IMG2744_2.jpg</td>\n",
       "      <td>-9.380678</td>\n",
       "      <td>3.58272</td>\n",
       "      <td>0</td>\n",
       "    </tr>\n",
       "    <tr>\n",
       "      <th>2</th>\n",
       "      <td>IMG2744_3.jpg</td>\n",
       "      <td>-9.380678</td>\n",
       "      <td>3.58272</td>\n",
       "      <td>0</td>\n",
       "    </tr>\n",
       "    <tr>\n",
       "      <th>3</th>\n",
       "      <td>IMG2744_4.jpg</td>\n",
       "      <td>-9.380678</td>\n",
       "      <td>3.58272</td>\n",
       "      <td>0</td>\n",
       "    </tr>\n",
       "    <tr>\n",
       "      <th>4</th>\n",
       "      <td>IMG2744_5.jpg</td>\n",
       "      <td>-9.380678</td>\n",
       "      <td>3.58272</td>\n",
       "      <td>0</td>\n",
       "    </tr>\n",
       "  </tbody>\n",
       "</table>\n",
       "</div>"
      ],
      "text/plain": [
       "              id         x        y  label\n",
       "0  IMG2744_1.jpg -9.380678  3.58272      0\n",
       "1  IMG2744_2.jpg -9.380678  3.58272      0\n",
       "2  IMG2744_3.jpg -9.380678  3.58272      0\n",
       "3  IMG2744_4.jpg -9.380678  3.58272      0\n",
       "4  IMG2744_5.jpg -9.380678  3.58272      0"
      ]
     },
     "execution_count": 7,
     "metadata": {},
     "output_type": "execute_result"
    }
   ],
   "source": [
    "# Reading csv files to read image names and their coordinates\n",
    "df_train = pd.read_csv(os.path.join(ORG_TRAIN_DIR, 'train.csv'))\n",
    "df_test = pd.read_csv(os.path.join(ORG_TEST_DIR, 'imagenames.csv'))\n",
    "\n",
    "# Appending extensions to the image name\n",
    "df_train[\"id\"] = df_train[\"id\"].apply(append_ext)\n",
    "df_test[\"id\"] = df_test[\"id\"].apply(append_ext)\n",
    "\n",
    "# Label encoding the coordinates\n",
    "df_train[\"label\"] = df_train.apply(lambda key: create_label(key.x, key.y), axis=1)\n",
    "\n",
    "df_train.head()"
   ]
  },
  {
   "cell_type": "code",
   "execution_count": 8,
   "metadata": {
    "execution": {
     "iopub.execute_input": "2021-10-18T09:47:23.951436Z",
     "iopub.status.busy": "2021-10-18T09:47:23.951212Z",
     "iopub.status.idle": "2021-10-18T09:47:24.007473Z",
     "shell.execute_reply": "2021-10-18T09:47:24.006687Z",
     "shell.execute_reply.started": "2021-10-18T09:47:23.951407Z"
    },
    "id": "NsG3MARZZmX9",
    "outputId": "cd337ec7-278a-4a6d-deeb-570af0a91cbe"
   },
   "outputs": [],
   "source": [
    "# Storing all the labels\n",
    "y_train = df_train['label'].tolist()\n",
    "\n",
    "n_classes = len(set(y_train))\n",
    "\n",
    "CLASS = list(set(y_train))"
   ]
  },
  {
   "cell_type": "code",
   "execution_count": 9,
   "metadata": {
    "execution": {
     "iopub.execute_input": "2021-10-18T09:47:24.009121Z",
     "iopub.status.busy": "2021-10-18T09:47:24.008864Z",
     "iopub.status.idle": "2021-10-18T09:48:58.326877Z",
     "shell.execute_reply": "2021-10-18T09:48:58.326274Z",
     "shell.execute_reply.started": "2021-10-18T09:47:24.009092Z"
    },
    "id": "RwgNTd7jZmX-",
    "outputId": "004187f5-e52d-4885-d315-6809950c4ee6"
   },
   "outputs": [
    {
     "name": "stderr",
     "output_type": "stream",
     "text": [
      "100%|██████████████████████████████████████████████████████████████████████████████| 1499/1499 [01:43<00:00, 14.47it/s]\n"
     ]
    }
   ],
   "source": [
    "# Segregating our images into folder structure based on their location\n",
    "for C_ID in tqdm(range(len(CLASS))):\n",
    "    DEST = os.path.join(TRAIN_DIR,str(C_ID))\n",
    "    \n",
    "    if not os.path.exists(DEST):\n",
    "        os.makedirs(DEST)\n",
    "    \n",
    "    for i in range(df_train.shape[0]):\n",
    "        if df_train['label'][i] == C_ID:\n",
    "            SRC = os.path.join(train_img_dir,df_train['id'][i])\n",
    "            shutil.copy(SRC, DEST)"
   ]
  },
  {
   "cell_type": "markdown",
   "metadata": {
    "id": "VvIu6i6OZmX-"
   },
   "source": [
    "# Model Building"
   ]
  },
  {
   "cell_type": "code",
   "execution_count": 10,
   "metadata": {
    "execution": {
     "iopub.execute_input": "2021-10-18T09:48:58.328412Z",
     "iopub.status.busy": "2021-10-18T09:48:58.328183Z",
     "iopub.status.idle": "2021-10-18T09:48:59.243370Z",
     "shell.execute_reply": "2021-10-18T09:48:59.242442Z",
     "shell.execute_reply.started": "2021-10-18T09:48:58.328382Z"
    },
    "id": "fu5LuyLiZmX_"
   },
   "outputs": [],
   "source": [
    "# Libraries needed for building the model\n",
    "import tensorflow.keras as keras\n",
    "from tensorflow.keras import layers\n",
    "from tensorflow.keras.models import Sequential, Model\n",
    "from tensorflow.keras.layers import Dense, Flatten, Conv2D, MaxPool2D\n",
    "from tensorflow.keras.optimizers import Adam\n",
    "from tensorflow.keras.applications.inception_v3 import InceptionV3, preprocess_input\n",
    "from tensorflow.keras.preprocessing.image import ImageDataGenerator\n",
    "from tensorflow.keras.callbacks import ModelCheckpoint, EarlyStopping\n",
    "\n",
    "import numpy as np\n",
    "import matplotlib.pyplot as plt"
   ]
  },
  {
   "cell_type": "markdown",
   "metadata": {
    "id": "ZO51wXs3ZmX_"
   },
   "source": [
    "# Pre process data using data generator"
   ]
  },
  {
   "cell_type": "code",
   "execution_count": 11,
   "metadata": {
    "execution": {
     "iopub.execute_input": "2021-10-18T09:48:59.245334Z",
     "iopub.status.busy": "2021-10-18T09:48:59.244465Z",
     "iopub.status.idle": "2021-10-18T09:49:00.185433Z",
     "shell.execute_reply": "2021-10-18T09:49:00.184391Z",
     "shell.execute_reply.started": "2021-10-18T09:48:59.245298Z"
    },
    "id": "aH4rGNS1ZmYA",
    "outputId": "95d72b57-c9fa-4f47-d696-da39bf603ce0"
   },
   "outputs": [
    {
     "name": "stdout",
     "output_type": "stream",
     "text": [
      "Found 6000 images belonging to 1499 classes.\n",
      "Found 1500 images belonging to 1499 classes.\n"
     ]
    }
   ],
   "source": [
    "# Splitting the generator into 80:20 with image size (256, 256)\n",
    "\n",
    "train_datagen = ImageDataGenerator(\n",
    "    rescale=1./255,\n",
    "    shear_range=0.2,\n",
    "    zoom_range=0.2,\n",
    "    horizontal_flip=True,\n",
    "    validation_split=0.2\n",
    ")\n",
    "\n",
    "train_datagener = train_datagen.flow_from_directory(\n",
    "    TRAIN_DIR,\n",
    "    target_size=(256, 256),\n",
    "    batch_size=64,\n",
    "    subset='training'\n",
    ")\n",
    "\n",
    "test_datagener = train_datagen.flow_from_directory(\n",
    "    TRAIN_DIR,\n",
    "    target_size=(256, 256),\n",
    "    batch_size=64,\n",
    "    subset='validation'\n",
    ")"
   ]
  },
  {
   "cell_type": "code",
   "execution_count": 12,
   "metadata": {
    "execution": {
     "iopub.execute_input": "2021-10-18T09:49:51.867322Z",
     "iopub.status.busy": "2021-10-18T09:49:51.866579Z",
     "iopub.status.idle": "2021-10-18T09:49:55.062468Z",
     "shell.execute_reply": "2021-10-18T09:49:55.061764Z",
     "shell.execute_reply.started": "2021-10-18T09:49:51.867280Z"
    },
    "id": "Y3xcqxfaZmYA",
    "outputId": "61fd57da-759b-4e32-de6b-a3cae2bdf783"
   },
   "outputs": [
    {
     "name": "stdout",
     "output_type": "stream",
     "text": [
      "Model: \"sequential\"\n",
      "_________________________________________________________________\n",
      "Layer (type)                 Output Shape              Param #   \n",
      "=================================================================\n",
      "conv2d (Conv2D)              (None, 128, 128, 64)      1792      \n",
      "_________________________________________________________________\n",
      "max_pooling2d (MaxPooling2D) (None, 64, 64, 64)        0         \n",
      "_________________________________________________________________\n",
      "flatten (Flatten)            (None, 262144)            0         \n",
      "_________________________________________________________________\n",
      "dense (Dense)                (None, 1499)              392955355 \n",
      "=================================================================\n",
      "Total params: 392,957,147\n",
      "Trainable params: 392,957,147\n",
      "Non-trainable params: 0\n",
      "_________________________________________________________________\n"
     ]
    }
   ],
   "source": [
    "keras.backend.clear_session()\n",
    "\n",
    "cnn = Sequential()\n",
    "cnn.add(\n",
    "    Conv2D(filters=64,\n",
    "           padding='same',\n",
    "           strides=2,\n",
    "           kernel_size=3,\n",
    "           activation='relu',\n",
    "           input_shape=(256, 256, 3)\n",
    "         )\n",
    ")\n",
    "\n",
    "cnn.add(MaxPool2D(pool_size=2,strides=2))\n",
    "\n",
    "cnn.add(Flatten())\n",
    "\n",
    "cnn.add(Dense(n_classes,activation='softmax'))\n",
    "\n",
    "cnn.summary()"
   ]
  },
  {
   "cell_type": "code",
   "execution_count": 13,
   "metadata": {},
   "outputs": [],
   "source": [
    "def manhanttan_dist(y_true, y_pred):\n",
    "    err = 0\n",
    "    \n",
    "    for true, pred in zip(y_true, y_pred):\n",
    "        err = err + abs(true - pred)\n",
    "\n",
    "    return err / y_true.shape[1]"
   ]
  },
  {
   "cell_type": "code",
   "execution_count": 14,
   "metadata": {
    "execution": {
     "iopub.execute_input": "2021-10-18T09:50:12.321777Z",
     "iopub.status.busy": "2021-10-18T09:50:12.321500Z",
     "iopub.status.idle": "2021-10-18T09:50:12.336493Z",
     "shell.execute_reply": "2021-10-18T09:50:12.335884Z",
     "shell.execute_reply.started": "2021-10-18T09:50:12.321747Z"
    },
    "id": "3H40odPbZmYA"
   },
   "outputs": [],
   "source": [
    "# Compiling CNN model\n",
    "cnn.compile(optimizer=Adam(), \n",
    "            loss='categorical_crossentropy',\n",
    "            metrics=['accuracy']\n",
    "           )"
   ]
  },
  {
   "cell_type": "code",
   "execution_count": 15,
   "metadata": {
    "execution": {
     "iopub.execute_input": "2021-10-18T09:50:15.609463Z",
     "iopub.status.busy": "2021-10-18T09:50:15.608897Z",
     "iopub.status.idle": "2021-10-18T09:50:15.614432Z",
     "shell.execute_reply": "2021-10-18T09:50:15.613622Z",
     "shell.execute_reply.started": "2021-10-18T09:50:15.609424Z"
    },
    "id": "KRuHnVEvZmYA"
   },
   "outputs": [],
   "source": [
    "# Early stopping the model based on the validation loss\n",
    "es = EarlyStopping(monitor=\"val_loss\",\n",
    "                  patience=5,\n",
    "                  verbose=1)"
   ]
  },
  {
   "cell_type": "code",
   "execution_count": 17,
   "metadata": {
    "execution": {
     "iopub.execute_input": "2021-10-18T12:24:38.074478Z",
     "iopub.status.busy": "2021-10-18T12:24:38.074179Z",
     "iopub.status.idle": "2021-10-18T12:24:38.144952Z",
     "shell.execute_reply": "2021-10-18T12:24:38.143783Z",
     "shell.execute_reply.started": "2021-10-18T12:24:38.074395Z"
    },
    "id": "Q9tanOkJZmYB",
    "outputId": "554d4e08-6294-402e-94ce-6f6b118afb6c"
   },
   "outputs": [
    {
     "name": "stdout",
     "output_type": "stream",
     "text": [
      "Epoch 1/10\n",
      "94/94 [==============================] - 415s 4s/step - loss: 7.0795 - accuracy: 0.0047 - val_loss: 7.0007 - val_accuracy: 0.0020\n",
      "Epoch 2/10\n",
      "94/94 [==============================] - 390s 4s/step - loss: 6.7490 - accuracy: 0.0137 - val_loss: 6.7622 - val_accuracy: 0.0047\n",
      "Epoch 3/10\n",
      "94/94 [==============================] - 399s 4s/step - loss: 5.9730 - accuracy: 0.0727 - val_loss: 6.6543 - val_accuracy: 0.0087\n",
      "Epoch 4/10\n",
      "94/94 [==============================] - 381s 4s/step - loss: 4.9812 - accuracy: 0.1927 - val_loss: 6.9152 - val_accuracy: 0.0113\n",
      "Epoch 5/10\n",
      "94/94 [==============================] - 370s 4s/step - loss: 3.9658 - accuracy: 0.3338 - val_loss: 7.3685 - val_accuracy: 0.0173\n",
      "Epoch 6/10\n",
      "94/94 [==============================] - 355s 4s/step - loss: 3.2509 - accuracy: 0.4362 - val_loss: 8.0028 - val_accuracy: 0.0200\n",
      "Epoch 7/10\n",
      "94/94 [==============================] - 372s 4s/step - loss: 2.7031 - accuracy: 0.5218 - val_loss: 8.2387 - val_accuracy: 0.0153\n",
      "Epoch 8/10\n",
      "94/94 [==============================] - 378s 4s/step - loss: 2.2793 - accuracy: 0.5800 - val_loss: 8.7279 - val_accuracy: 0.0160\n",
      "Epoch 00008: early stopping\n"
     ]
    }
   ],
   "source": [
    "# Training the model\n",
    "history = cnn.fit(train_datagener,\n",
    "            epochs=10,\n",
    "            verbose=True,\n",
    "            validation_data=test_datagener,\n",
    "            callbacks=[es]\n",
    "           )"
   ]
  },
  {
   "cell_type": "code",
   "execution_count": 18,
   "metadata": {
    "execution": {
     "iopub.status.busy": "2021-10-18T09:49:00.428939Z",
     "iopub.status.idle": "2021-10-18T09:49:00.429402Z",
     "shell.execute_reply": "2021-10-18T09:49:00.429185Z",
     "shell.execute_reply.started": "2021-10-18T09:49:00.429160Z"
    },
    "id": "9uoutB4tZmYB"
   },
   "outputs": [],
   "source": [
    "TEST_DIR = test_img_dir"
   ]
  },
  {
   "cell_type": "code",
   "execution_count": 21,
   "metadata": {
    "execution": {
     "iopub.status.busy": "2021-10-18T09:49:00.430918Z",
     "iopub.status.idle": "2021-10-18T09:49:00.431385Z",
     "shell.execute_reply": "2021-10-18T09:49:00.431168Z",
     "shell.execute_reply.started": "2021-10-18T09:49:00.431143Z"
    },
    "id": "mYDdmKZGZmYB"
   },
   "outputs": [
    {
     "name": "stderr",
     "output_type": "stream",
     "text": [
      "100%|██████████████████████████████████████████████████████████████████████████████| 1200/1200 [00:14<00:00, 84.95it/s]\n"
     ]
    }
   ],
   "source": [
    "test_image_data = []\n",
    "\n",
    "# Storing the test images needed to predict\n",
    "for i in tqdm(range(df_test.shape[0])):\n",
    "    img = keras.preprocessing.image.load_img(TEST_DIR + df_test['id'][i], \n",
    "                         target_size=(256, 256, 3)\n",
    "                         )\n",
    "    img = (keras.preprocessing.image.img_to_array(img)) / 255\n",
    "    test_image_data.append(img)\n",
    "\n",
    "predict_x = np.array(test_image_data)"
   ]
  },
  {
   "cell_type": "code",
   "execution_count": 23,
   "metadata": {
    "execution": {
     "iopub.status.busy": "2021-10-18T09:49:00.432758Z",
     "iopub.status.idle": "2021-10-18T09:49:00.433106Z",
     "shell.execute_reply": "2021-10-18T09:49:00.432924Z",
     "shell.execute_reply.started": "2021-10-18T09:49:00.432902Z"
    },
    "id": "CfHfY1PWZmYB"
   },
   "outputs": [],
   "source": [
    "# Predicting the test images\n",
    "pred = cnn.predict(predict_x)"
   ]
  },
  {
   "cell_type": "code",
   "execution_count": 24,
   "metadata": {
    "execution": {
     "iopub.status.busy": "2021-10-18T09:49:00.434178Z",
     "iopub.status.idle": "2021-10-18T09:49:00.434472Z",
     "shell.execute_reply": "2021-10-18T09:49:00.434338Z",
     "shell.execute_reply.started": "2021-10-18T09:49:00.434317Z"
    },
    "id": "bYtw6cbfZmYB"
   },
   "outputs": [
    {
     "name": "stderr",
     "output_type": "stream",
     "text": [
      "100%|███████████████████████████████████████████████████████████████████████████| 1200/1200 [00:00<00:00, 58255.57it/s]\n"
     ]
    }
   ],
   "source": [
    "predictions = []\n",
    "\n",
    "# Converting label encoded to coordinates\n",
    "for i in tqdm(range(df_test.shape[0])):\n",
    "    predictions.append(label_to_coordinate[np.argmax(pred[i])])"
   ]
  },
  {
   "cell_type": "code",
   "execution_count": 25,
   "metadata": {
    "execution": {
     "iopub.status.busy": "2021-10-18T09:49:00.435760Z",
     "iopub.status.idle": "2021-10-18T09:49:00.436112Z",
     "shell.execute_reply": "2021-10-18T09:49:00.435935Z",
     "shell.execute_reply.started": "2021-10-18T09:49:00.435912Z"
    },
    "id": "dmRVVmWAZmYC"
   },
   "outputs": [],
   "source": [
    "# Reading the test image name and creating a dataframe\n",
    "sample = pd.read_csv(ORG_TEST_DIR + '/imagenames.csv')\n",
    "submission=pd.DataFrame(columns=sample.columns)\n",
    "submission['id']=sample['id']"
   ]
  },
  {
   "cell_type": "code",
   "execution_count": 26,
   "metadata": {
    "execution": {
     "iopub.status.busy": "2021-10-18T09:49:00.437510Z",
     "iopub.status.idle": "2021-10-18T09:49:00.437813Z",
     "shell.execute_reply": "2021-10-18T09:49:00.437674Z",
     "shell.execute_reply.started": "2021-10-18T09:49:00.437652Z"
    },
    "id": "xPXHETKaZmYC"
   },
   "outputs": [],
   "source": [
    "split_x_y = pd.DataFrame(predictions, columns=['x', 'y'])"
   ]
  },
  {
   "cell_type": "code",
   "execution_count": 27,
   "metadata": {
    "execution": {
     "iopub.status.busy": "2021-10-18T09:49:00.439820Z",
     "iopub.status.idle": "2021-10-18T09:49:00.440136Z",
     "shell.execute_reply": "2021-10-18T09:49:00.439976Z",
     "shell.execute_reply.started": "2021-10-18T09:49:00.439960Z"
    },
    "id": "Yh3HDGKnZmYC"
   },
   "outputs": [],
   "source": [
    "# Storing the coordinates\n",
    "submission['x'] = split_x_y['x']\n",
    "submission['y'] = split_x_y['y']"
   ]
  },
  {
   "cell_type": "code",
   "execution_count": 28,
   "metadata": {
    "execution": {
     "iopub.status.busy": "2021-10-18T09:49:00.441010Z",
     "iopub.status.idle": "2021-10-18T09:49:00.441330Z",
     "shell.execute_reply": "2021-10-18T09:49:00.441198Z",
     "shell.execute_reply.started": "2021-10-18T09:49:00.441182Z"
    },
    "id": "RLbJBB2XZmYC"
   },
   "outputs": [],
   "source": [
    "submission.to_csv(\"./cnn_prediction.csv\", index=False)"
   ]
  }
 ],
 "metadata": {
  "colab": {
   "collapsed_sections": [],
   "name": "run.ipynb",
   "provenance": []
  },
  "kernelspec": {
   "display_name": "Python 3",
   "language": "python",
   "name": "python3"
  },
  "language_info": {
   "codemirror_mode": {
    "name": "ipython",
    "version": 3
   },
   "file_extension": ".py",
   "mimetype": "text/x-python",
   "name": "python",
   "nbconvert_exporter": "python",
   "pygments_lexer": "ipython3",
   "version": "3.8.8"
  }
 },
 "nbformat": 4,
 "nbformat_minor": 1
}
