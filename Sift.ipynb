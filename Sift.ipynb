{
 "cells": [
  {
   "cell_type": "code",
   "execution_count": 38,
   "id": "37e0a7dc",
   "metadata": {},
   "outputs": [],
   "source": [
    "# Importing all the necessary Libraries\n",
    "import os\n",
    "import cv2\n",
    "import zipfile\n",
    "import numpy as np\n",
    "import pandas as pd\n",
    "from tqdm import tqdm\n",
    "import matplotlib.pyplot as plt\n",
    "from sklearn.model_selection import train_test_split"
   ]
  },
  {
   "cell_type": "code",
   "execution_count": 39,
   "id": "77d6314d",
   "metadata": {},
   "outputs": [],
   "source": [
    "# Directory path\n",
    "train_dir = './COMP90086_2021_Project_train'\n",
    "test_dir = './COMP90086_2021_Project_test'\n",
    "train_img_dir = train_dir + '/train/'\n",
    "test_img_dir = test_dir + '/test/'"
   ]
  },
  {
   "cell_type": "code",
   "execution_count": 40,
   "id": "c9383eac",
   "metadata": {},
   "outputs": [],
   "source": [
    "def extract_zip_files(dir):\n",
    "    \"\"\"\n",
    "    Extracting all the files from the given folder path\n",
    "    \"\"\"\n",
    "    with zipfile.ZipFile(dir + '.zip', \"r\") as zip_ref:\n",
    "        zip_ref.extractall(dir)"
   ]
  },
  {
   "cell_type": "code",
   "execution_count": 41,
   "id": "cafc663f",
   "metadata": {},
   "outputs": [],
   "source": [
    "# Unzipping train and test folders\n",
    "extract_zip_files(train_dir)\n",
    "extract_zip_files(test_dir)"
   ]
  },
  {
   "cell_type": "code",
   "execution_count": 42,
   "id": "6d6d5416",
   "metadata": {},
   "outputs": [],
   "source": [
    "labels = {}\n",
    "label_to_coordinate = {}"
   ]
  },
  {
   "cell_type": "code",
   "execution_count": 43,
   "id": "47109644",
   "metadata": {},
   "outputs": [],
   "source": [
    "def append_ext(filename):\n",
    "    \"\"\"\n",
    "    Appending image name with .jpg\n",
    "    \"\"\"\n",
    "    return filename + \".jpg\"\n",
    "\n",
    "def create_label(x, y):\n",
    "    \"\"\"\n",
    "    Label Encoding the coordinates\n",
    "    \"\"\"\n",
    "    if (x, y) not in labels:\n",
    "        if 0 == len(labels.keys()):\n",
    "            labels[(x, y)] = 0\n",
    "            label_to_coordinate[0]=(x, y)\n",
    "        else:\n",
    "            label = labels[list(labels.keys())[-1]] + 1\n",
    "            labels[(x, y)] = label\n",
    "            label_to_coordinate[label]=(x, y)\n",
    "            \n",
    "    return labels[(x, y)]"
   ]
  },
  {
   "cell_type": "code",
   "execution_count": 44,
   "id": "92822d83",
   "metadata": {},
   "outputs": [
    {
     "data": {
      "text/html": [
       "<div>\n",
       "<style scoped>\n",
       "    .dataframe tbody tr th:only-of-type {\n",
       "        vertical-align: middle;\n",
       "    }\n",
       "\n",
       "    .dataframe tbody tr th {\n",
       "        vertical-align: top;\n",
       "    }\n",
       "\n",
       "    .dataframe thead th {\n",
       "        text-align: right;\n",
       "    }\n",
       "</style>\n",
       "<table border=\"1\" class=\"dataframe\">\n",
       "  <thead>\n",
       "    <tr style=\"text-align: right;\">\n",
       "      <th></th>\n",
       "      <th>id</th>\n",
       "      <th>x</th>\n",
       "      <th>y</th>\n",
       "      <th>label</th>\n",
       "    </tr>\n",
       "  </thead>\n",
       "  <tbody>\n",
       "    <tr>\n",
       "      <th>0</th>\n",
       "      <td>IMG2744_1.jpg</td>\n",
       "      <td>-9.380678</td>\n",
       "      <td>3.58272</td>\n",
       "      <td>0</td>\n",
       "    </tr>\n",
       "    <tr>\n",
       "      <th>1</th>\n",
       "      <td>IMG2744_2.jpg</td>\n",
       "      <td>-9.380678</td>\n",
       "      <td>3.58272</td>\n",
       "      <td>0</td>\n",
       "    </tr>\n",
       "    <tr>\n",
       "      <th>2</th>\n",
       "      <td>IMG2744_3.jpg</td>\n",
       "      <td>-9.380678</td>\n",
       "      <td>3.58272</td>\n",
       "      <td>0</td>\n",
       "    </tr>\n",
       "    <tr>\n",
       "      <th>3</th>\n",
       "      <td>IMG2744_4.jpg</td>\n",
       "      <td>-9.380678</td>\n",
       "      <td>3.58272</td>\n",
       "      <td>0</td>\n",
       "    </tr>\n",
       "    <tr>\n",
       "      <th>4</th>\n",
       "      <td>IMG2744_5.jpg</td>\n",
       "      <td>-9.380678</td>\n",
       "      <td>3.58272</td>\n",
       "      <td>0</td>\n",
       "    </tr>\n",
       "  </tbody>\n",
       "</table>\n",
       "</div>"
      ],
      "text/plain": [
       "              id         x        y  label\n",
       "0  IMG2744_1.jpg -9.380678  3.58272      0\n",
       "1  IMG2744_2.jpg -9.380678  3.58272      0\n",
       "2  IMG2744_3.jpg -9.380678  3.58272      0\n",
       "3  IMG2744_4.jpg -9.380678  3.58272      0\n",
       "4  IMG2744_5.jpg -9.380678  3.58272      0"
      ]
     },
     "execution_count": 44,
     "metadata": {},
     "output_type": "execute_result"
    }
   ],
   "source": [
    "# Reading csv files to read image names and their coordinates\n",
    "df_train = pd.read_csv(os.path.join(train_dir, 'train.csv'))\n",
    "df_test = pd.read_csv(os.path.join(test_dir, 'imagenames.csv'))\n",
    "\n",
    "# Appending extensions to the image name\n",
    "df_train[\"id\"] = df_train[\"id\"].apply(append_ext)\n",
    "df_test[\"id\"] = df_test[\"id\"].apply(append_ext)\n",
    "\n",
    "# Label encoding the coordinates\n",
    "df_train[\"label\"] = df_train.apply(lambda key: create_label(key.x, key.y), axis=1)\n",
    "\n",
    "df_train.head()"
   ]
  },
  {
   "cell_type": "code",
   "execution_count": 45,
   "id": "87191933",
   "metadata": {},
   "outputs": [],
   "source": [
    "# Stratified splitting by label encoded coordinates with 80:20 ratio\n",
    "train_df, validation_df = train_test_split(df_train, random_state=24, test_size=0.2, stratify=df_train['label'])"
   ]
  },
  {
   "cell_type": "code",
   "execution_count": 46,
   "id": "ff28e528",
   "metadata": {},
   "outputs": [
    {
     "data": {
      "text/plain": [
       "(6000, 1500)"
      ]
     },
     "execution_count": 46,
     "metadata": {},
     "output_type": "execute_result"
    }
   ],
   "source": [
    "len(train_df), len(validation_df)"
   ]
  },
  {
   "cell_type": "code",
   "execution_count": 47,
   "id": "7a706494",
   "metadata": {},
   "outputs": [],
   "source": [
    "# Sort ID's so that same location pics are next to each other\n",
    "# This is done in case if the order is changed\n",
    "train_df = train_df.sort_values(\"id\")"
   ]
  },
  {
   "cell_type": "code",
   "execution_count": 48,
   "id": "7dca6f90",
   "metadata": {},
   "outputs": [
    {
     "name": "stderr",
     "output_type": "stream",
     "text": [
      "100%|█████████████████████████████████████████████████████████████████████████████| 6000/6000 [00:39<00:00, 150.95it/s]\n"
     ]
    }
   ],
   "source": [
    "# Horizontally concatenating the training images \n",
    "train_length = train_df.shape[0]\n",
    "train_imgs = []\n",
    "train_labels = []\n",
    "\n",
    "img_name = \"\"\n",
    "concatenated_img = []\n",
    "\n",
    "for i in tqdm(train_df.index):\n",
    "    splitted_img_name = df_train['id'][i].split('_')[0]\n",
    "    img_path = train_img_dir + df_train['id'][i]\n",
    "    img = cv2.imread(img_path, 0)\n",
    "\n",
    "    if img_name == splitted_img_name:\n",
    "        concatenated_img = cv2.hconcat([concatenated_img, img])\n",
    "    else:\n",
    "        if len(concatenated_img):\n",
    "            train_imgs.append(concatenated_img)\n",
    "            \n",
    "        img_name = splitted_img_name\n",
    "        concatenated_img = img\n",
    "        train_labels.append(df_train['label'][i])   \n",
    "        \n",
    "train_imgs.append(concatenated_img)"
   ]
  },
  {
   "cell_type": "code",
   "execution_count": 49,
   "id": "8cca4309",
   "metadata": {},
   "outputs": [
    {
     "data": {
      "text/plain": [
       "<matplotlib.image.AxesImage at 0x1d8becb7700>"
      ]
     },
     "execution_count": 49,
     "metadata": {},
     "output_type": "execute_result"
    },
    {
     "data": {
      "image/png": "[encoded data removed]",
      "text/plain": [
       "<Figure size 432x288 with 1 Axes>"
      ]
     },
     "metadata": {
      "needs_background": "light"
     },
     "output_type": "display_data"
    }
   ],
   "source": [
    "# Displaying first concatenated images\n",
    "plt.imshow(train_imgs[0], cmap=\"gray\")"
   ]
  },
  {
   "cell_type": "code",
   "execution_count": 50,
   "id": "c11249b0",
   "metadata": {},
   "outputs": [],
   "source": [
    "def calc_features(img):\n",
    "    \"\"\"\n",
    "    3000 best features are retained for the images\n",
    "    \"\"\"\n",
    "    sift = cv2.SIFT_create(3000)\n",
    "    kp, des = sift.detectAndCompute(img, None)\n",
    "    return kp, des"
   ]
  },
  {
   "cell_type": "code",
   "execution_count": 51,
   "id": "6af2215c",
   "metadata": {},
   "outputs": [
    {
     "name": "stderr",
     "output_type": "stream",
     "text": [
      "100%|██████████████████████████████████████████████████████████████████████████████| 1500/1500 [07:30<00:00,  3.33it/s]\n"
     ]
    }
   ],
   "source": [
    "y_train = []\n",
    "train_kp_and_des = []\n",
    "\n",
    "# Storing all the best 3000 features of training images with its lables\n",
    "for i in tqdm(range(len(train_imgs))):\n",
    "    img_kp, img_des = calc_features(train_imgs[i])\n",
    "    \n",
    "    if img_des is not None:\n",
    "        train_kp_and_des.append((img_kp, img_des))\n",
    "        y_train.append(train_labels[i])"
   ]
  },
  {
   "cell_type": "code",
   "execution_count": null,
   "id": "16aec3b2",
   "metadata": {},
   "outputs": [],
   "source": [
    "result = []\n",
    "manhattan_dist = 0\n",
    "\n",
    "# Manhattan error is calculated for validation datset\n",
    "# Note: The following code is inspired from Workshop Week 7 Solution\n",
    "for i in tqdm(validation_df.index[:2]):\n",
    "    crct_coor = df_train['label'][i]\n",
    "    val_img_path = train_img_dir + df_train['id'][i]\n",
    "    val_img = cv2.imread(val_img_path, 0)\n",
    "    \n",
    "    # Calculating validation image features\n",
    "    val_img_kp, val_img_des = calc_features(val_img)\n",
    "    \n",
    "    y_val = -1\n",
    "    max_matches = 0\n",
    "    \n",
    "    FLANN_INDEX_KDTREE = 1\n",
    "    index_params = dict(algorithm=FLANN_INDEX_KDTREE, trees=5)\n",
    "    search_params = dict(checks=10)\n",
    "    flann = cv2.FlannBasedMatcher(index_params, search_params)\n",
    "    \n",
    "    # Comparing validation image features with all the training images\n",
    "    for details, label in zip(train_kp_and_des, y_train):\n",
    "        # Matching descriptor using KNN algorithm\n",
    "        matches = flann.knnMatch(val_img_des, details[1], k=2)\n",
    "        \n",
    "        # Store all good matches as per Lowe's Ratio test.\n",
    "        good_matches = []\n",
    "        for m, n in matches:\n",
    "            if m.distance < 0.7 * n.distance:\n",
    "                good_matches.append(m)\n",
    "           \n",
    "                \n",
    "        if len(good_matches) > 3: # Considering min 3 matching features\n",
    "            # If enough matches are found, we extract the positions of the matched keypoints in both images. \n",
    "    \n",
    "            train_img_pts = np.float32([details[0][m.trainIdx].pt for m in good_matches]).reshape(-1, 1, 2)\n",
    "            test_img_pts = np.float32([val_img_kp[m.queryIdx].pt for m in good_matches]).reshape(-1, 1, 2)\n",
    "            \n",
    "            h, status = cv2.findHomography(test_img_pts, train_img_pts, \n",
    "                                           cv2.RANSAC,\n",
    "                                           ransacReprojThreshold=5, \n",
    "                                           maxIters=20\n",
    "                                          )\n",
    "            \n",
    "            matchesMask = status.ravel().tolist()\n",
    "            \n",
    "            # Check whether this training image has more matching feature\n",
    "            # If yes, note this training image label\n",
    "            if matchesMask.count(1) and max_matches < matchesMask.count(1):\n",
    "                max_matches = matchesMask.count(1)\n",
    "                y_val = label\n",
    "    \n",
    "    # Storing Image name with their true coordinates\n",
    "    data = {\n",
    "        \"id\": df_train['id'][i].split(\".\")[0],\n",
    "        \"true_x\": label_to_coordinate[crct_coor][0],\n",
    "        \"true_y\": label_to_coordinate[crct_coor][1]\n",
    "    }\n",
    "    \n",
    "    if y_val == -1:\n",
    "        # In case, the minimum number of matches are found, we are going with (0, 0) as prediction\n",
    "        data['x'] = 0\n",
    "        data['y'] = 0  \n",
    "    else:\n",
    "        # Decoding the labels to coordinates and storing it\n",
    "        data['x'] = label_to_coordinate[y_val][0]\n",
    "        data['y'] = label_to_coordinate[y_val][1]\n",
    "    \n",
    "    # Calculating absolute error\n",
    "    err = abs(data['true_x'] - data['x']) - abs(data['true_y'] - data['y'])\n",
    "    manhattan_dist += err  \n",
    "    data['manhattan_err'] = manhattan_dist\n",
    "    \n",
    "    result.append(data)\n",
    "    \n",
    "print(\"Absolute mean error for the validation set is {}\".format(manhattan_dist/len(validation_df)))"
   ]
  },
  {
   "cell_type": "code",
   "execution_count": 53,
   "id": "b60fe879",
   "metadata": {},
   "outputs": [
    {
     "name": "stderr",
     "output_type": "stream",
     "text": [
      "100%|█████████████████████████████████████████████████████████████████████████████| 7500/7500 [00:13<00:00, 570.12it/s]\n"
     ]
    }
   ],
   "source": [
    "# Here, we are using the whole dataset for predicting the test images.\n",
    "# Horizontally Concatenating the different views of same location of whole dataset\n",
    "train_length = df_train.shape[0]\n",
    "train_imgs = []\n",
    "train_labels = []\n",
    "\n",
    "img_name = \"\"\n",
    "concatenated_img = []\n",
    "\n",
    "for i in tqdm(range(train_length)):\n",
    "    splitted_img_name = df_train['id'][i].split('_')[0]\n",
    "    img_path = train_img_dir + df_train['id'][i]\n",
    "    img = cv2.imread(img_path, 0)\n",
    "\n",
    "    if img_name == splitted_img_name:\n",
    "        concatenated_img = cv2.hconcat([concatenated_img, img])\n",
    "    else:\n",
    "        if len(concatenated_img):\n",
    "            train_imgs.append(concatenated_img)\n",
    "            \n",
    "        img_name = splitted_img_name\n",
    "        concatenated_img = img\n",
    "        train_labels.append(df_train['label'][i])   \n",
    "        \n",
    "train_imgs.append(concatenated_img)"
   ]
  },
  {
   "cell_type": "code",
   "execution_count": 54,
   "id": "0d892348",
   "metadata": {},
   "outputs": [
    {
     "data": {
      "text/plain": [
       "<matplotlib.image.AxesImage at 0x1d8becdeaf0>"
      ]
     },
     "execution_count": 54,
     "metadata": {},
     "output_type": "execute_result"
    },
    {
     "data": {
      "image/png": "[encoded data removed]",
      "text/plain": [
       "<Figure size 432x288 with 1 Axes>"
      ]
     },
     "metadata": {
      "needs_background": "light"
     },
     "output_type": "display_data"
    }
   ],
   "source": [
    "# Displaying the horizontally ocncantenated image\n",
    "plt.imshow(train_imgs[0], cmap=\"gray\")"
   ]
  },
  {
   "cell_type": "code",
   "execution_count": 55,
   "id": "70cbdb77",
   "metadata": {},
   "outputs": [
    {
     "name": "stderr",
     "output_type": "stream",
     "text": [
      "100%|██████████████████████████████████████████████████████████████████████████████| 1500/1500 [09:16<00:00,  2.70it/s]\n"
     ]
    }
   ],
   "source": [
    "# Storing all the best 3000 features of training images with its lables\n",
    "y_train = []\n",
    "train_kp_and_des = []\n",
    "\n",
    "for i in tqdm(range(len(train_imgs))):\n",
    "    img_kp, img_des = calc_features(train_imgs[i])\n",
    "    \n",
    "    if img_des is not None:\n",
    "        train_kp_and_des.append((img_kp, img_des))\n",
    "        y_train.append(train_labels[i])"
   ]
  },
  {
   "cell_type": "code",
   "execution_count": null,
   "id": "7dac16a3",
   "metadata": {},
   "outputs": [],
   "source": [
    "test_result = []\n",
    "\n",
    "# Note: The following code is inspired from Workshop Week 7 Solution\n",
    "for i in tqdm(range(0, len(df_test[:2]))):\n",
    "    test_img_path = test_img_dir + df_test['id'][i]\n",
    "    test_img = cv2.imread(test_img_path, 0)\n",
    "    test_img_kp, test_img_des = calc_features(test_img)\n",
    "    y_test = -1\n",
    "    max_matches = 0\n",
    "    \n",
    "    # FLANN parameters and initialize\n",
    "    FLANN_INDEX_KDTREE = 1\n",
    "    index_params = dict(algorithm=FLANN_INDEX_KDTREE, trees=5)\n",
    "    search_params = dict(checks=10)\n",
    "    flann = cv2.FlannBasedMatcher(index_params, search_params)\n",
    "    \n",
    "    for details, label in zip(train_kp_and_des, y_train):\n",
    "        # Matching descriptor using KNN algorithm\n",
    "        matches = flann.knnMatch(test_img_des, details[1], k=2)\n",
    "        \n",
    "        good_matches = []\n",
    "        # Store all good matches as per Lowe's Ratio test.\n",
    "        for m, n in matches:\n",
    "            if m.distance < 0.7 * n.distance:\n",
    "                good_matches.append(m)\n",
    "           \n",
    "                \n",
    "        if len(good_matches) > 3: # Considering min 3 matching features\n",
    "             # If enough matches are found, we extract the positions of the matched keypoints in both images. \n",
    "            train_img_pts = np.float32([details[0][m.trainIdx].pt for m in good_matches]).reshape(-1, 1, 2)\n",
    "            test_img_pts = np.float32([test_img_kp[m.queryIdx].pt for m in good_matches]).reshape(-1, 1, 2)\n",
    "            \n",
    "            h, status = cv2.findHomography(test_img_pts, train_img_pts, \n",
    "                                           cv2.RANSAC,\n",
    "                                           ransacReprojThreshold=5, \n",
    "                                           maxIters=20\n",
    "                                          )\n",
    "            \n",
    "            matchesMask = status.ravel().tolist()\n",
    "            \n",
    "            # Check whether this training image has more matching feature\n",
    "            # If yes, note this training image label\n",
    "            if matchesMask.count(1) and max_matches < matchesMask.count(1):\n",
    "                max_matches = matchesMask.count(1)\n",
    "                y_test = label\n",
    "                \n",
    "    if y_val == -1:\n",
    "        # In case, the minimum number of matches are found, we are going with (0, 0) as prediction\n",
    "        data['x'] = 0\n",
    "        data['y'] = 0  \n",
    "    else:\n",
    "        # Decoding the labels to coordinates and storing it\n",
    "        data['x'] = label_to_coordinate[y_val][0]\n",
    "        data['y'] = label_to_coordinate[y_val][1]\n",
    "    \n",
    "    test_result.append(data)"
   ]
  },
  {
   "cell_type": "code",
   "execution_count": 57,
   "id": "a5defec2",
   "metadata": {},
   "outputs": [],
   "source": [
    "# Converting the result into dataframe\n",
    "df_prediction = pd.DataFrame(test_result, columns = ['id', 'x', 'y'])"
   ]
  },
  {
   "cell_type": "code",
   "execution_count": 58,
   "id": "be33b456",
   "metadata": {},
   "outputs": [],
   "source": [
    "df_prediction.to_csv(\"./sift_predictions.csv\", index=False)"
   ]
  }
 ],
 "metadata": {
  "kernelspec": {
   "display_name": "Python 3",
   "language": "python",
   "name": "python3"
  },
  "language_info": {
   "codemirror_mode": {
    "name": "ipython",
    "version": 3
   },
   "file_extension": ".py",
   "mimetype": "text/x-python",
   "name": "python",
   "nbconvert_exporter": "python",
   "pygments_lexer": "ipython3",
   "version": "3.8.8"
  }
 },
 "nbformat": 4,
 "nbformat_minor": 5
}
